{
 "cells": [
  {
   "cell_type": "code",
   "execution_count": 38,
   "metadata": {},
   "outputs": [
    {
     "name": "stdout",
     "output_type": "stream",
     "text": [
      "число разных клиентов типа R:  2\n",
      "число разных клиентов типа AF:  2\n"
     ]
    }
   ],
   "source": [
    "#разбил для удобства проверки и чтения кода,понятно что нет необходимости читать файл столько раз подряд.\n",
    "\n",
    "setR = set()\n",
    "setAF= set()\n",
    "\n",
    "with open(\"transactions.txt\") as infile:\n",
    "    for line in infile:\n",
    "        cur_l=line.split(',')\n",
    "        if cur_l[3]=='R\\n':\n",
    "            setR.add(cur_l[1])\n",
    "        else:\n",
    "            setAF.add(cur_l[1])\n",
    "            \n",
    "print(\"число разных клиентов типа R: \",len(setR))\n",
    "print(\"число разных клиентов типа AF: \",len(setAF))"
   ]
  },
  {
   "cell_type": "code",
   "execution_count": 39,
   "metadata": {},
   "outputs": [
    {
     "name": "stdout",
     "output_type": "stream",
     "text": [
      "average R:  2486.6666666666665\n",
      "average AF:  35300.0\n"
     ]
    }
   ],
   "source": [
    "n_tr_R=0# общее число транзакций в Р\n",
    "n_tr_AF=0# общее число транзакций в АФ\n",
    "sum_R=0\n",
    "sum_AF=0\n",
    "\n",
    "with open(\"transactions.txt\") as infile:\n",
    "    for line in infile:\n",
    "        cur_l=line.split(',')\n",
    "        if cur_l[3]=='R\\n':\n",
    "            sum_R+=int(cur_l[2])\n",
    "            n_tr_R+=1\n",
    "        else:\n",
    "            sum_AF+=int(cur_l[2])\n",
    "            n_tr_AF+=1\n",
    "\n",
    "if n_tr_R!=0:\n",
    "    av_R=sum_R/n_tr_R\n",
    "    print(\"average R: \",av_R)\n",
    "if n_tr_AF!=0:\n",
    "    av_AF=sum_AF/n_tr_AF\n",
    "    print(\"average AF: \",av_AF)"
   ]
  },
  {
   "cell_type": "code",
   "execution_count": 26,
   "metadata": {},
   "outputs": [
    {
     "name": "stdout",
     "output_type": "stream",
     "text": [
      "for R:  (19.09382514333356, 4954.239508189999)\n",
      "for AF:  (-45418.24846516119, 116018.24846516116)\n"
     ]
    }
   ],
   "source": [
    "import numpy as np\n",
    "from scipy.stats import norm\n",
    "\n",
    "std_R=0;\n",
    "std_AF=0;\n",
    "with open(\"transactions.txt\") as infile:\n",
    "    for line in infile:\n",
    "        cur_l=line.split(',')\n",
    "        if cur_l[3]=='R\\n':\n",
    "            std_R+=(av_R-int(cur_l[2]))**2\n",
    "        else:\n",
    "            std_AF+=(av_AF-int(cur_l[2]))**2\n",
    "\n",
    "std_R=np.sqrt(std_R/(n_tr_R-1))\n",
    "std_AF=np.sqrt(std_AF/(n_tr_AF-1))\n",
    "\n",
    "\n",
    "print(\"for R: \",norm.interval(0.9, loc=av_R, scale=std_R))\n",
    "print(\"for AF: \",norm.interval(0.9, loc=av_AF, scale=std_AF))"
   ]
  },
  {
   "cell_type": "code",
   "execution_count": 37,
   "metadata": {},
   "outputs": [
    {
     "name": "stdout",
     "output_type": "stream",
     "text": [
      "равны\n"
     ]
    }
   ],
   "source": [
    "#надо бы на нормальность проверить, наверное сначала, но просто применю т-Стьюд.\n",
    "t_St=(av_R-av_AF)/np.sqrt(std_R*std_R/n_tr_R + std_AF*std_AF/n_tr_AF)\n",
    "\n",
    "if (np.abs(t_St)<1,645):\n",
    "    print(\"равны\")\n",
    "else:\n",
    "    print(\"не равны\")"
   ]
  }
 ],
 "metadata": {
  "kernelspec": {
   "display_name": "Python 3",
   "language": "python",
   "name": "python3"
  },
  "language_info": {
   "codemirror_mode": {
    "name": "ipython",
    "version": 3
   },
   "file_extension": ".py",
   "mimetype": "text/x-python",
   "name": "python",
   "nbconvert_exporter": "python",
   "pygments_lexer": "ipython3",
   "version": "3.7.4"
  }
 },
 "nbformat": 4,
 "nbformat_minor": 2
}
